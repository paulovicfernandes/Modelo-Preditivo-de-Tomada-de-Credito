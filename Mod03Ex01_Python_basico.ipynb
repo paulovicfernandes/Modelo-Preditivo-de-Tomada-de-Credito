{
  "cells": [
    {
      "cell_type": "markdown",
      "metadata": {
        "id": "SEE0vQsW83yB"
      },
      "source": [
        "### 01 - Teste de gravidez\n",
        "Escreva uma célula com controle de fluxos que tem como premissa a existência das seguintes variáveis:\n",
        "\n",
        "- ```sexo``` como ```str``` indicando os valores '**M**' para masculino e '**F**' para feminino  \n",
        "- ```beta_hcg``` que indica a quantidade do beta-HCG no sangue em mUI/mL.\n",
        "\n",
        "A sua tarefa é escrever um código que imprima como resultado \"indivíduo do sexo masculino\" quando sexo = 'M', caso sexo = 'F', se o valor de beta-HCG for maior que 5, retorne \"Positivo\" indicando que a paciente está grávida, e retorne \"Negativo\" caso contrário.\n",
        "\n",
        "Não mexa nos valores da variável ```sexo``` nem em ```beta_hcg```, e escreva um código que funcione para quaisquer valores possíveis de ambos: ```sexo``` = '**M**' ou '**F**' e ```beta_hcg``` assumindo valores inteiros positivos."
      ]
    },
    {
      "cell_type": "code",
      "execution_count": 2,
      "metadata": {
        "id": "cTOc4LG683yE",
        "colab": {
          "base_uri": "https://localhost:8080/"
        },
        "outputId": "0ed79376-e15c-4b44-83e1-52107d2d0fba"
      },
      "outputs": [
        {
          "output_type": "stream",
          "name": "stdout",
          "text": [
            "Indivíduo do sexo masculino\n"
          ]
        }
      ],
      "source": [
        "sexo = 'M'\n",
        "beta_hcg = 0\n",
        "\n",
        "# seu código vem abaixo desta linha\n",
        "\n",
        "if sexo == 'M':\n",
        "    print(\"Indivíduo do sexo masculino\")\n",
        "elif sexo == 'F':\n",
        "    # Verifica se o valor de beta-HCG é maior que 5\n",
        "    if beta_hcg > 5:\n",
        "        print(\"Positivo\")\n",
        "    else:\n",
        "        print(\"Negativo\")\n",
        "else:\n",
        "    print(\"Sexo não reconhecido\")\n"
      ]
    },
    {
      "cell_type": "markdown",
      "metadata": {
        "id": "uCoIZDE383yF"
      },
      "source": [
        "### 02 - Renomeando variáveis\n",
        "\n",
        "Vamos ver adiante que uma forma de renomear variáveis de um conjunto de dados é através de dicionários - o dicionário deve conter como chave o nome original, associando a cada chave um único valor (tipo *str*) que contenha o nome novo.\n",
        "\n",
        "A sua tarefa é escrever um dicionário que possa ser utilizado para traduzir as variáveis ```name``` (nome), ```age``` (idade) e ```income``` (renda). Ou seja, esse dicionário deve relacionar as chaves *name, age* e *income* às suas respectivas traduções."
      ]
    },
    {
      "cell_type": "code",
      "execution_count": 4,
      "metadata": {
        "id": "Bh6ijpbu83yG",
        "outputId": "dbc178e1-62dc-4c23-a83c-b65f47629edb",
        "colab": {
          "base_uri": "https://localhost:8080/"
        }
      },
      "outputs": [
        {
          "output_type": "execute_result",
          "data": {
            "text/plain": [
              "{'name': 'nome', 'age': 'idade', 'income': 'renda'}"
            ]
          },
          "metadata": {},
          "execution_count": 4
        }
      ],
      "source": [
        "dic_renomeacao = {'name': 'nome', 'age': 'idade', 'income': 'renda'}\n",
        "dic_renomeacao"
      ]
    },
    {
      "cell_type": "markdown",
      "metadata": {
        "id": "95zumO5g83yH"
      },
      "source": [
        "### 03 - É divisível?\n",
        "A sua tarefa é escrever um código que indique se um número ```N``` é divisível por um número P. Escreva um programa que faça essa verificação para quaisquer combinações de ```N``` e ```M``` e devolva uma mensagem indicativa no output."
      ]
    },
    {
      "cell_type": "code",
      "source": [
        "def verifica_divisibilidade(N, P):\n",
        "    if N % P == 0:\n",
        "        return f\"{N} é divisível por {P}.\"\n",
        "    else:\n",
        "        return f\"{N} não é divisível por {P}.\"\n",
        "\n",
        "# Exemplo com N = 42 e P = 7\n",
        "N = 42\n",
        "P = 7\n",
        "\n",
        "resultado = verifica_divisibilidade(N, P)\n",
        "print(resultado)\n"
      ],
      "metadata": {
        "colab": {
          "base_uri": "https://localhost:8080/"
        },
        "id": "wVD_Uy9R-ZSq",
        "outputId": "73518932-7bfa-44dd-a116-8800d67fbd7e"
      },
      "execution_count": 5,
      "outputs": [
        {
          "output_type": "stream",
          "name": "stdout",
          "text": [
            "42 é divisível por 7.\n"
          ]
        }
      ]
    },
    {
      "cell_type": "markdown",
      "metadata": {
        "id": "0d5Kdrz283yJ"
      },
      "source": [
        "### 04 - Números primos\n",
        "> Um número **N** é primo se e somente se é divisível por 1, -1, por **N** e por -**N**.  \n",
        "\n",
        "Escreva um script que verifica se ```N``` é um número primo, verificando se ```N``` é divisível por todos os números de ```1``` a ```N-1```. Você vai precisar usar alguma ferramenta de *loop* que você aprendeu para isto. No final, devolva uma mensagem no output indicando se o número é primo ou não."
      ]
    },
    {
      "cell_type": "code",
      "execution_count": 22,
      "metadata": {
        "id": "h_lFO-EO83yJ",
        "colab": {
          "base_uri": "https://localhost:8080/"
        },
        "outputId": "dec5bc79-44c1-4843-d5d2-28d731277297"
      },
      "outputs": [
        {
          "output_type": "stream",
          "name": "stdout",
          "text": [
            "47 é um número primo.\n"
          ]
        }
      ],
      "source": [
        "N = 47\n",
        "\n",
        "def verifica_primo(N):\n",
        "    # Se o número for menor ou igual a 1, não é primo\n",
        "    if N <= 1:\n",
        "        return False\n",
        "\n",
        "    # Verifica se N é divisível por algum número no intervalo de 2 a N-1\n",
        "    for i in range(2, N):\n",
        "        if N % i == 0:\n",
        "            return False  # N não é primo\n",
        "\n",
        "    return True  # N é primo\n",
        "\n",
        "# Teste com o número 47\n",
        "N = 47\n",
        "if verifica_primo(N):\n",
        "    print(f\"{N} é um número primo.\")\n",
        "else:\n",
        "    print(f\"{N} não é um número primo.\")\n",
        "\n",
        "\n"
      ]
    },
    {
      "cell_type": "markdown",
      "metadata": {
        "id": "zHwDnURO83yK"
      },
      "source": [
        "### 05 - Desafio\n",
        "O algorítmo do exercício anterior não é o mais eficiente. O que você pode fazer para deixá-lo mais eficiente? Ou seja, executar menos comparações, portanto consumir menos tempo.\n",
        "1. Será que precisamos correr o loop até o final sempre?\n",
        "2. Será que precisamos mesmo verificar **todos** os números?\n",
        "3. Será que precisamos ir até N-1?\n",
        "\n",
        "Essas perguntas levam ao tipo de pensamento voltado a deixar um algoritmo mais eficiente. Veja se você consegue melhorar o seu."
      ]
    },
    {
      "cell_type": "code",
      "execution_count": 23,
      "metadata": {
        "id": "DDdwfZOL83yM",
        "colab": {
          "base_uri": "https://localhost:8080/"
        },
        "outputId": "1bd04a27-ff98-4e8c-982b-c414a120d1e3"
      },
      "outputs": [
        {
          "output_type": "stream",
          "name": "stdout",
          "text": [
            "98 não é um número primo.\n"
          ]
        }
      ],
      "source": [
        "N = 98\n",
        "\n",
        "# seu código aqui\n",
        "\n",
        "def verifica_primo_otimizado(N):\n",
        "    # Se o número for menor ou igual a 1, não é primo\n",
        "    if N <= 1:\n",
        "        return False\n",
        "\n",
        "    # Verifica divisibilidade até a raiz quadrada de N\n",
        "    for i in range(2, int(N**0.5) + 1):\n",
        "        if N % i == 0:\n",
        "            return False  # N não é primo\n",
        "\n",
        "    return True  # N é primo\n",
        "\n",
        "# Teste com o número 98\n",
        "N = 98\n",
        "if verifica_primo_otimizado(N):\n",
        "    print(f\"{N} é um número primo.\")\n",
        "else:\n",
        "    print(f\"{N} não é um número primo.\")\n"
      ]
    },
    {
      "cell_type": "markdown",
      "metadata": {
        "id": "4zhVSQan83yN"
      },
      "source": [
        "### 06 - Peso ideal 1\n",
        "O IMC (índice de massa corpórea) é um indicador de saúde mais bem aceito que o peso. Ele é calculado como:\n",
        "\n",
        "$$ IMC = \\dfrac{peso}{altura^2}$$\n",
        "\n",
        "Segundo a OMS, valores *normais* são entre 18.5 e 24.9.\n",
        "\n",
        "Sua tarefa é encontrar o ponto médio dessa faixa."
      ]
    },
    {
      "cell_type": "code",
      "source": [
        "# Definindo os valores mínimo e máximo do IMC para a faixa normal\n",
        "imc_minimo = 18.5\n",
        "imc_maximo = 24.9\n",
        "\n",
        "# Calculando o ponto médio\n",
        "imc_ideal = (imc_minimo + imc_maximo) / 2\n",
        "\n",
        "# Exibindo o resultado\n",
        "print(\"O ponto médio da faixa de IMC normal é:\", imc_ideal)\n"
      ],
      "metadata": {
        "colab": {
          "base_uri": "https://localhost:8080/"
        },
        "id": "IpxHqbqzBMeY",
        "outputId": "9a749b17-092f-41d7-d93a-3ab9e3898e29"
      },
      "execution_count": 12,
      "outputs": [
        {
          "output_type": "stream",
          "name": "stdout",
          "text": [
            "O ponto médio da faixa de IMC normal é: 21.7\n"
          ]
        }
      ]
    },
    {
      "cell_type": "markdown",
      "metadata": {
        "id": "Z8uBOym483yP"
      },
      "source": [
        "### 07 - Peso ideal 2\n",
        "Recebendo um valor de altura, encontre o peso '*ideal*' dessa pessoa, que fornece o IMC encontrado acima"
      ]
    },
    {
      "cell_type": "code",
      "source": [
        "altura = 1.70  # Altura em metros\n",
        "imc_normal = 21.7  # IMC normal desejado\n",
        "\n",
        "# Calcular o peso ideal\n",
        "peso_ideal = imc_normal * altura**2\n",
        "\n",
        "# Exibir o peso ideal\n",
        "print(\"O peso ideal para a altura de {} metros e IMC normal de {} é: {:.2f} kg\".format(altura, imc_normal, peso_ideal))\n"
      ],
      "metadata": {
        "colab": {
          "base_uri": "https://localhost:8080/"
        },
        "id": "ZvuuaV84QY83",
        "outputId": "9d9d9f2a-c68a-4f1a-ad41-66f0a7c59aa4"
      },
      "execution_count": 15,
      "outputs": [
        {
          "output_type": "stream",
          "name": "stdout",
          "text": [
            "O peso ideal para a altura de 1.7 metros e IMC normal de 21.7 é: 62.71 kg\n"
          ]
        }
      ]
    },
    {
      "cell_type": "markdown",
      "metadata": {
        "id": "zEdM6J_i83yP"
      },
      "source": [
        "### 08 - Peso ideal 3\n",
        "Dada uma lista contendo as alturas de pacientes, crie uma nova lista que contenha o peso '*ideal*' (que fornece o IMC calculado em **Peso ideal 1**) desses pacientes."
      ]
    },
    {
      "cell_type": "code",
      "source": [
        "# Dados\n",
        "lista_alturas = [1.95, 2.05, 1.70, 1.65]\n",
        "imc_normal = 21.7\n",
        "\n",
        "# Calcular o peso ideal para cada altura e adicionar à lista_peso_ideal\n",
        "lista_peso_ideal = []\n",
        "\n",
        "for altura in lista_alturas:\n",
        "    peso_ideal = imc_normal * altura**2\n",
        "    lista_peso_ideal.append(peso_ideal)\n",
        "\n",
        "# Exibir a lista de pesos ideais\n",
        "print(\"Lista de Pesos Ideais:\", lista_peso_ideal)\n"
      ],
      "metadata": {
        "colab": {
          "base_uri": "https://localhost:8080/"
        },
        "id": "2OxTE86gQ95d",
        "outputId": "b3748bb6-0284-42d4-c09b-fd3471d7c78e"
      },
      "execution_count": 19,
      "outputs": [
        {
          "output_type": "stream",
          "name": "stdout",
          "text": [
            "Lista de Pesos Ideais: [82.51424999999999, 91.19425, 62.712999999999994, 59.07824999999999]\n"
          ]
        }
      ]
    },
    {
      "cell_type": "markdown",
      "metadata": {
        "id": "8OKAtYQM83yQ"
      },
      "source": [
        "### 09 - Peso ideal 4\n",
        "Dada uma lista de tuplas - cada elemento da lista é uma tupla contendo altura e peso de um paciente - crie uma nova lista com o IMC desses pacientes."
      ]
    },
    {
      "cell_type": "code",
      "source": [
        "# Dados\n",
        "altura_peso = [(1.80, 90), (1.65, 75), (1.91, 70)]\n",
        "\n",
        "# Calcular o IMC para cada paciente e adicionar à lista imc\n",
        "imc = []\n",
        "\n",
        "for altura, peso in altura_peso:\n",
        "    imc_paciente = peso / altura**2\n",
        "    imc.append(imc_paciente)\n",
        "\n",
        "# Exibir a lista de IMC\n",
        "print(\"Lista de IMC:\", imc)\n"
      ],
      "metadata": {
        "colab": {
          "base_uri": "https://localhost:8080/"
        },
        "id": "x0NRv3TERsDT",
        "outputId": "b72812c6-9348-4f1d-a383-b47d62a4e0dc"
      },
      "execution_count": 20,
      "outputs": [
        {
          "output_type": "stream",
          "name": "stdout",
          "text": [
            "Lista de IMC: [27.777777777777775, 27.548209366391188, 19.188070502453332]\n"
          ]
        }
      ]
    },
    {
      "cell_type": "markdown",
      "metadata": {
        "id": "kZdSJqJq83yR"
      },
      "source": [
        "### 10 - Peso ideal 5\n",
        "Dada uma lista de **listas** - cada elemento da lista é uma **lista** contendo altura e peso de um paciente, adicione mais um elemento à lista de cada paciente contendo o IMC do paciente. Verifique também se é 'baixo', 'normal' ou 'alto' segundo os padrões da OMS em que normal é entre 18.5 e 24.9.\n",
        "\n",
        "Reflexão: por que no problema anterior temos que criar uma nova lista, e não podemos adicionar os dados de cada indivíduo à tupla?"
      ]
    },
    {
      "cell_type": "code",
      "source": [
        "# Dados\n",
        "altura_peso = [[1.80, 90], [1.65, 75], [1.91, 70]]\n",
        "\n",
        "# Adicionar IMC e classificação à lista de cada paciente\n",
        "for paciente in altura_peso:\n",
        "    altura, peso = paciente[0], paciente[1]\n",
        "    imc = peso / altura**2\n",
        "    paciente.append(imc)\n",
        "\n",
        "    # Verificar a classificação do IMC\n",
        "    if imc < 18.5:\n",
        "        classificacao = 'baixo'\n",
        "    elif 18.5 <= imc <= 24.9:\n",
        "        classificacao = 'normal'\n",
        "    else:\n",
        "        classificacao = 'alto'\n",
        "\n",
        "    paciente.append(classificacao)\n",
        "\n",
        "# Exibir a lista atualizada\n",
        "print(\"Lista Atualizada:\", altura_peso)\n"
      ],
      "metadata": {
        "colab": {
          "base_uri": "https://localhost:8080/"
        },
        "id": "t7fsSZoLSOsn",
        "outputId": "6d671c9b-1be5-40dc-abbd-5ec90db49e9d"
      },
      "execution_count": 21,
      "outputs": [
        {
          "output_type": "stream",
          "name": "stdout",
          "text": [
            "Lista Atualizada: [[1.8, 90, 27.777777777777775, 'alto'], [1.65, 75, 27.548209366391188, 'alto'], [1.91, 70, 19.188070502453332, 'normal']]\n"
          ]
        }
      ]
    },
    {
      "cell_type": "markdown",
      "source": [],
      "metadata": {
        "id": "-CnX7jJKVgEJ"
      }
    },
    {
      "cell_type": "markdown",
      "source": [
        " Em Python tuplas são imutáveis, o que significa que você não pode adicionar elementos a uma tupla existente. Portanto, ao trabalhar com dados que precisam ser modificados ou atualizados, é mais conveniente usar uma lista, que é mutável."
      ],
      "metadata": {
        "id": "Qi3uD-2NVrBj"
      }
    }
  ],
  "metadata": {
    "kernelspec": {
      "display_name": "Python 3",
      "language": "python",
      "name": "python3"
    },
    "language_info": {
      "codemirror_mode": {
        "name": "ipython",
        "version": 3
      },
      "file_extension": ".py",
      "mimetype": "text/x-python",
      "name": "python",
      "nbconvert_exporter": "python",
      "pygments_lexer": "ipython3",
      "version": "3.8.5"
    },
    "colab": {
      "provenance": []
    }
  },
  "nbformat": 4,
  "nbformat_minor": 0
}