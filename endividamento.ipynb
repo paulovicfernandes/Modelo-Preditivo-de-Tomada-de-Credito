{
 "cells": [
  {
   "cell_type": "markdown",
   "metadata": {
    "id": "k1JIBxZb695r"
   },
   "source": [
    "###  Endividamento\n",
    "\n",
    "O ndarray contém os dados de 4 pessoas, total a ser pago a empréstimos mensalmente e renda familiar:\n",
    "\n",
    "| custo fixo | dívida financeira | renda familiar |\n",
    "|:----:|:----:|:---|\n",
    "| 3000  | 1000 | 6000 |\n",
    "| 2500  | 2500 | 5500 |\n",
    "| 1000  | 3000 | 7000 |\n",
    "| 10000 | 5000 | 16000 |\n",
    "\n",
    "i. Transformação da lista de listas ```dados_financeiros``` no ndarray ```nd_financeiros```.\n",
    "> ``` dados_financeiros[[3000, 2500, 1000, 10000],[1000, 2500, 3000, 5000],[6000, 5500, 7000, 16000]] ```\n",
    "\n",
    "ii. Utilização do método ```.transpose ``` para certificar de que esse ndarray tenha uma linha por indivíduo e uma coluna por informação. Utilizando a indexação do numpy, impressão no output da segunda linha do array, depois a segunda coluna.\n",
    "\n",
    "iii. Calculo do endividamento total usando a váriavel endividamento_total :\n",
    "$$endividamento\\hspace{.2cm}total = \\frac{custo \\hspace{.2cm}fixo + dívida\\hspace{.2cm}financeira}{renda\\hspace{.2cm}familiar}$$\n",
    "\n",
    "\n",
    "iv. Correção de um valor considerando que há um erro de digitação que precisa ser corrigido ou um erro nas informações do banco de dados: 3o indivíduo não possui renda familiar de R\\\\$7.000,00, mas sim R\\\\$ 10.000,00. "
   ]
  },
  {
   "cell_type": "code",
   "execution_count": 15,
   "metadata": {
    "id": "k17jw6kT695r"
   },
   "outputs": [
    {
     "name": "stdout",
     "output_type": "stream",
     "text": [
      "[[ 3000  2500  1000 10000]\n",
      " [ 1000  2500  3000  5000]\n",
      " [ 6000  5500  7000 16000]]\n"
     ]
    }
   ],
   "source": [
    "#i\n",
    "\n",
    "import numpy as np\n",
    "\n",
    "dados_financeiros = [[3000, 2500, 1000, 10000],[1000, 2500, 3000, 5000],[6000, 5500, 7000, 16000]]\n",
    "nd_financeiros = np.array(dados_financeiros)\n",
    "\n",
    "print(nd_financeiros)"
   ]
  },
  {
   "cell_type": "code",
   "execution_count": 19,
   "metadata": {},
   "outputs": [
    {
     "name": "stdout",
     "output_type": "stream",
     "text": [
      "Segunda linha do array (segundo indivíduo): [2500 2500 5500]\n",
      "Segunda coluna do array (dívida financeira): [1000 2500 3000 5000]\n"
     ]
    }
   ],
   "source": [
    "#ii\n",
    "\n",
    "nd_financeiros = np.array(dados_financeiros)\n",
    "nd_financeiros = nd_financeiros.transpose()\n",
    "\n",
    "\n",
    "print(\"Segunda linha do array (segundo indivíduo):\", nd_financeiros[1])\n",
    "\n",
    "\n",
    "print(\"Segunda coluna do array (dívida financeira):\", nd_financeiros[:, 1])"
   ]
  },
  {
   "cell_type": "code",
   "execution_count": 22,
   "metadata": {
    "id": "RgMG-t9-695s"
   },
   "outputs": [
    {
     "name": "stdout",
     "output_type": "stream",
     "text": [
      "Endividamento total de cada indivíduo:\n",
      "[16500 11500 37500]\n"
     ]
    }
   ],
   "source": [
    "#iii\n",
    "\n",
    "endividamento_total = np.sum(nd_financeiros, axis=1)\n",
    "\n",
    "print(\"Endividamento total de cada indivíduo:\")\n",
    "print(endividamento_total)"
   ]
  },
  {
   "cell_type": "code",
   "execution_count": 21,
   "metadata": {
    "id": "FxaSHRgy695t"
   },
   "outputs": [
    {
     "name": "stdout",
     "output_type": "stream",
     "text": [
      "Endividamento total corrigido de cada indivíduo:\n",
      "[16500 11500 37500]\n"
     ]
    }
   ],
   "source": [
    "#iv\n",
    "\n",
    "dados_financeiros = [[3000, 2500, 1000, 10000],\n",
    "                     [1000, 2500, 3000, 5000],\n",
    "                     [6000, 5500, 10000, 16000]] \n",
    "\n",
    "nd_financeiros = np.array(dados_financeiros)\n",
    "\n",
    "\n",
    "endividamento_total_corrigido = np.sum(nd_financeiros, axis=1)\n",
    "\n",
    "\n",
    "print(\"Endividamento total corrigido de cada indivíduo:\")\n",
    "print(endividamento_total_corrigido)\n"
   ]
  }
 ],
 "metadata": {
  "colab": {
   "collapsed_sections": [],
   "provenance": []
  },
  "kernelspec": {
   "display_name": "Python 3 (ipykernel)",
   "language": "python",
   "name": "python3"
  },
  "language_info": {
   "codemirror_mode": {
    "name": "ipython",
    "version": 3
   },
   "file_extension": ".py",
   "mimetype": "text/x-python",
   "name": "python",
   "nbconvert_exporter": "python",
   "pygments_lexer": "ipython3",
   "version": "3.9.12"
  }
 },
 "nbformat": 4,
 "nbformat_minor": 1
}
